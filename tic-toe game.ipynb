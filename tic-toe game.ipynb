{
 "cells": [
  {
   "cell_type": "code",
   "execution_count": 1,
   "metadata": {},
   "outputs": [],
   "source": [
    "from IPython.display import clear_output\n",
    "#creating the grid\n",
    "def display_grid(bd):\n",
    "    print(\"******************************\")\n",
    "    print(\"||\"+\"   \"+bd[7] +\"   \"+\"||\"+\"   \"+bd[8]+\"   \"+\"||\"+\"   \"+bd[9]+\"   \"+\"||\")\n",
    "    print(\"******************************\")\n",
    "    print( \"||\"+\"   \"+bd[4] +\"   \"+\"||\"+\"   \"+bd[5]+\"   \"+\"||\"+\"   \"+bd[6]+\"   \"+\"||\")\n",
    "    print(\"******************************\")\n",
    "    print(\"||\"+\"   \"+bd[1] +\"   \"+\"||\"+\"   \"+bd[2]+\"   \"+\"||\"+\"   \"+bd[3]+\"   \"+\"||\")\n",
    "    print(\"******************************\")"
   ]
  },
  {
   "cell_type": "code",
   "execution_count": 2,
   "metadata": {},
   "outputs": [
    {
     "name": "stdout",
     "output_type": "stream",
     "text": [
      "******************************\n",
      "||       ||       ||       ||\n",
      "******************************\n",
      "||       ||       ||       ||\n",
      "******************************\n",
      "||       ||       ||       ||\n",
      "******************************\n"
     ]
    }
   ],
   "source": [
    " \n",
    "board=[' ']*10\n",
    "display_grid(board)\n"
   ]
  },
  {
   "cell_type": "code",
   "execution_count": 3,
   "metadata": {},
   "outputs": [],
   "source": [
    "#a function that can take in a player input and assign their marker as 'X' or 'O'.\n",
    "#Think about using while loops to continually ask until you get a correct answer."
   ]
  },
  {
   "cell_type": "code",
   "execution_count": 4,
   "metadata": {},
   "outputs": [],
   "source": [
    "def player_input():\n",
    "    marker=\"\"\n",
    "    while not (marker==\"X\" or marker==\"O\"):\n",
    "        marker=input(\"Enter either 'X' or 'O'->\").upper()\n",
    "    if(marker==\"X\"):\n",
    "        return(\"X\",\"O\")\n",
    "    else:\n",
    "        return(\"O\",\"X\")\n",
    "     \n",
    "    \n",
    "    "
   ]
  },
  {
   "cell_type": "code",
   "execution_count": 15,
   "metadata": {},
   "outputs": [
    {
     "name": "stdout",
     "output_type": "stream",
     "text": [
      "Enter either 'X' or 'O'->\n",
      "Enter either 'X' or 'O'->x\n"
     ]
    },
    {
     "data": {
      "text/plain": [
       "('X', 'O')"
      ]
     },
     "execution_count": 15,
     "metadata": {},
     "output_type": "execute_result"
    }
   ],
   "source": [
    "player_input()"
   ]
  },
  {
   "cell_type": "code",
   "execution_count": 16,
   "metadata": {},
   "outputs": [],
   "source": [
    "# a function that takes in the board list object, a marker ('X' or 'O'),\n",
    "#and a desired position (number 1-9) and assigns it to the board.\n",
    "def place_marker(board, marker, position):\n",
    "     board[position]=marker"
   ]
  },
  {
   "cell_type": "code",
   "execution_count": 17,
   "metadata": {},
   "outputs": [
    {
     "name": "stdout",
     "output_type": "stream",
     "text": [
      "******************************\n",
      "||       ||   $   ||       ||\n",
      "******************************\n",
      "||       ||       ||       ||\n",
      "******************************\n",
      "||       ||       ||       ||\n",
      "******************************\n"
     ]
    }
   ],
   "source": [
    "\n",
    "place_marker(board,'$',8)\n",
    "display_grid(board)"
   ]
  },
  {
   "cell_type": "code",
   "execution_count": 18,
   "metadata": {},
   "outputs": [],
   "source": [
    "# a function that takes in a board and a mark (X or O) and then checks to see if that mark has won.\n",
    "def win_check(board, mark):\n",
    "    return((board[7]==mark and board[4]==mark and board[1]==mark)or\n",
    "           (board[7]==mark and board[8]==mark and board[9]==mark)or\n",
    "           (board[7]==mark and board[5]==mark and board[3]==mark)or\n",
    "           (board[8]==mark and board[5]==mark and board[2]==mark)or\n",
    "           (board[9]==mark and board[6]==mark and board[3]==mark)or\n",
    "           (board[4]==mark and board[5]==mark and board[6]==mark)or\n",
    "           (board[1]==mark and board[2]==mark and board[3]==mark)or\n",
    "           (board[9]==mark and board[5]==mark and board[1]==mark))\n",
    "    \n",
    "           \n",
    "           "
   ]
  },
  {
   "cell_type": "code",
   "execution_count": 19,
   "metadata": {},
   "outputs": [
    {
     "data": {
      "text/plain": [
       "False"
      ]
     },
     "execution_count": 19,
     "metadata": {},
     "output_type": "execute_result"
    }
   ],
   "source": [
    "win_check(board,'X')"
   ]
  },
  {
   "cell_type": "code",
   "execution_count": 20,
   "metadata": {},
   "outputs": [],
   "source": [
    "#a function that uses the random module to randomly decide which player goes first. \n",
    "#You may want to lookup random.randint() Return a string of which player went first.\n",
    "import random\n",
    "\n",
    "def choose_first():\n",
    "    if random.randint(0,1)==0:\n",
    "        return 'Player2'\n",
    "    else:\n",
    "        return 'Player1'"
   ]
  },
  {
   "cell_type": "code",
   "execution_count": 21,
   "metadata": {},
   "outputs": [],
   "source": [
    "#a function that returns a boolean indicating whether a space on the board is freely available.\n",
    "def space_check(board, position):\n",
    "    return board[position]==' '"
   ]
  },
  {
   "cell_type": "code",
   "execution_count": 22,
   "metadata": {},
   "outputs": [],
   "source": [
    "#a function that checks if the board is full and returns a boolean value. True if full, False otherwise.\n",
    "def full_board_check(board):\n",
    "    for i in range(1,10):\n",
    "        if space_check(board,i):\n",
    "            return False\n",
    "    return True\n",
    "       \n",
    "        "
   ]
  },
  {
   "cell_type": "code",
   "execution_count": 23,
   "metadata": {},
   "outputs": [],
   "source": [
    "# a function that asks for a player's next position (as a number 1-9) and then uses the function from step 6 \n",
    "#to check if it's a free position. If it is, then return the position for later use.\n",
    "def player_choice(board):\n",
    "    position=0\n",
    "    while position not in[1,2,3,4,5,6,7,8,9] or not space_check(board,position):\n",
    "          position=int(input(\"choose the numbers one to nine->\"))\n",
    "    return position\n",
    "    "
   ]
  },
  {
   "cell_type": "code",
   "execution_count": 24,
   "metadata": {},
   "outputs": [],
   "source": [
    "# a function that asks the player if they want to play again and returns a boolean True if they do want to play again.\n",
    "def replay():\n",
    "    \n",
    "    return(input(\"Do you want play again or not?\")).lower().startswith('y')"
   ]
  },
  {
   "cell_type": "markdown",
   "metadata": {},
   "source": [
    "print('Welcome to Tic Tac Toe!')\n",
    "\n",
    "while True:\n",
    "    player1_marker,player2_marker= player_input()\n",
    "    turn=choose_first()\n",
    "    print(turn+\"Will go first\")\n",
    "    play_game=input(\"Are you ready to play?YES OR NO\")\n",
    "    if play_game.lower()[]==\"y\":\n",
    "        game_on=True\n",
    "        \n",
    "    else:\n",
    "        game_on=False\n",
    "\n",
    "     \n",
    "\n",
    "    while game_on:\n",
    "        #Player 1 Turn\n",
    "        if turn==\"Player1\":\n",
    "            display_grid(board) \n",
    "            position=player_choice(board)\n",
    "            place_marker(board, player1_marker, position)\n",
    "            if win_check(board, player1_marker):\n",
    "                display_grid(board) \n",
    "                print(\"YOU WON THE GAME!!\")\n",
    "                game_on=False\n",
    "            else:\n",
    "                if full_board_check(board):\n",
    "                    display_grid(board)\n",
    "                    print(\"draw!!!\")\n",
    "                    break\n",
    "                else:\n",
    "                    turn='Player2'\n",
    "                \n",
    "                \n",
    "        \n",
    "        # Player2's turn.\n",
    "        else:\n",
    "            display_grid(board) \n",
    "            position=player_choice(board)\n",
    "            place_marker(board, player2_marker, position)\n",
    "            if win_check(board, player2_marker):\n",
    "                display_grid(board) \n",
    "                print(\"PLAYER2 WON THE  GAME!!\")\n",
    "                game_on=False\n",
    "            else:\n",
    "                if full_board_check(board):\n",
    "                    display_grid(board)\n",
    "                    print(\"draw!!!\")\n",
    "                    break\n",
    "                else:\n",
    "                    turn='Player1'\n",
    "            \n",
    "\n",
    "    if not replay():\n",
    "        break"
   ]
  },
  {
   "cell_type": "code",
   "execution_count": null,
   "metadata": {},
   "outputs": [
    {
     "name": "stdout",
     "output_type": "stream",
     "text": [
      "Welcome to Tic Tac Toe!\n",
      "Enter either 'X' or 'O'->x\n",
      "Player2Will go first\n",
      "Are you ready to play?YES OR NOyes\n"
     ]
    }
   ],
   "source": [
    "print('Welcome to Tic Tac Toe!')\n",
    "\n",
    "while True: \n",
    "    player1_marker,player2_marker= player_input() \n",
    "    turn=choose_first() \n",
    "    print(turn+\"Will go first\")\n",
    "    play_game=input(\"Are you ready to play?YES OR NO\") \n",
    "    if play_game.lower()[0]==\"y\":\n",
    "        game_on=True\n",
    "    else:\n",
    "        game_on=False\n",
    "\n",
    "\n",
    "\n",
    "while game_on:\n",
    "    #Player 1 Turn\n",
    "    if turn==\"Player1\":\n",
    "        display_grid(board) \n",
    "        position=player_choice(board)\n",
    "        place_marker(board, player1_marker, position)\n",
    "        if win_check(board, player1_marker):\n",
    "            display_grid(board) \n",
    "            print(\"YOU WON THE GAME!!\")\n",
    "            game_on=False\n",
    "        else:\n",
    "            if full_board_check(board):\n",
    "                display_grid(board)\n",
    "                print(\"draw!!!\")\n",
    "                break\n",
    "            else:\n",
    "                turn='Player2'\n",
    "\n",
    "\n",
    "\n",
    "    # Player2's turn.\n",
    "    else:\n",
    "        display_grid(board) \n",
    "        position=player_choice(board)\n",
    "        place_marker(board, player2_marker, position)\n",
    "        if win_check(board, player2_marker):\n",
    "            display_grid(board) \n",
    "            print(\"PLAYER2 WON THE  GAME!!\")\n",
    "            game_on=False\n",
    "        else:\n",
    "            if full_board_check(board):\n",
    "                display_grid(board)\n",
    "                print(\"draw!!!\")\n",
    "                break\n",
    "            else:\n",
    "                turn='Player1'\n",
    "\n",
    "\n",
    "    if not replay():\n",
    "        break\n"
   ]
  },
  {
   "cell_type": "code",
   "execution_count": null,
   "metadata": {},
   "outputs": [],
   "source": []
  }
 ],
 "metadata": {
  "kernelspec": {
   "display_name": "Python 3",
   "language": "python",
   "name": "python3"
  },
  "language_info": {
   "codemirror_mode": {
    "name": "ipython",
    "version": 3
   },
   "file_extension": ".py",
   "mimetype": "text/x-python",
   "name": "python",
   "nbconvert_exporter": "python",
   "pygments_lexer": "ipython3",
   "version": "3.7.6"
  }
 },
 "nbformat": 4,
 "nbformat_minor": 4
}
